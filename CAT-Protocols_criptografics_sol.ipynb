{
 "cells": [
  {
   "cell_type": "markdown",
   "metadata": {
    "colab_type": "text",
    "id": "YELkNM66tRxz"
   },
   "source": [
    "<div style=\"width: 100%; clear: both;\">\n",
    "    <div style=\"float: left; width: 50%;\">\n",
    "       <img src=\"http://www.uoc.edu/portal/_resources/common/imatges/marca_UOC/UOC_Masterbrand.jpg\", align=\"left\">\n",
    "    </div>\n",
    "</div>\n",
    "\n",
    "<div style=\"float: right; width: 50%;\">\n",
    "    <p style=\"margin: 0; padding-top: 22px; text-align:right;\">M1.771 · Privadesa</p>\n",
    "    <p style=\"margin: 0; text-align:right;\">Màster Universitari en Ciberseguretat i Privadesa</p>\n",
    "    <p style=\"margin: 0; text-align:right; padding-button: 100px;\">Estudis d'Informàtica, Multimèdia i Telecomunicació</p>\n",
    "</div>\n",
    "\n",
    "</div>\n",
    "<div style=\"width: 100%; clear: both;\">\n",
    "<div style=\"width:100%;\">&nbsp;</div>"
   ]
  },
  {
   "cell_type": "markdown",
   "metadata": {
    "colab_type": "text",
    "id": "LtmDGYdGtRx0"
   },
   "source": [
    "Privadesa\n",
    "============================\n",
    "\n",
    "--- \n",
    "\n",
    "Exercicis resolts - Protocols criptogràfics\n",
    "-----------------------------------------------------\n",
    "\n",
    "---\n",
    "\n",
    "### Instruccions d'ús\n",
    "\n",
    "Aquest *notebook* conté un conjunt d'exercicis sobre protocols criptogràfics que permeten preservar la privadesa, que us poden servir per practicar els conceptes explicats en els mòduls teòrics.\n",
    "\n",
    "Us recomanem que intenteu fer aquests problemes vosaltres mateixos i que, una vegada realitzats, compareu la solució que us proposem amb la vostra. No dubteu a adreçar tots els dubtes que sorgeixin de la resolució d'aquests exercicis o bé de les solucions proposades al fòrum de l'aula.\n",
    "\n",
    "Per tal de fer les activitats proposades, hauríeu d'estar familiaritzats amb la programació en Python. Si no heu programat mai fent servir aquest llenguatge, us recomanem que reviseu les unitats d'introducció a la programació Python que trobareu a l'aula.\n",
    "\n",
    "\n",
    "### Introducció\n",
    "\n",
    "En aquests exercicis implementarem un conjunt de protocols criptogràfics que es troben al mòdul teòric de protocols criptogràfics. Aquests protocols s'executen entre un conjunt d'agents o entitats (normalment dues, però, per a alguns protocols, en poden ser més). Per tal d'implementar aquestes entitats, farem servir programació orientada a objectes: cada entitat estarà representada per una classe de Python. Els mètodes de les classes implementaran les diferents accions que pot fer cada entitat. Així, les activitats consistiran, d'una banda, a implementar els mètodes de les classes que representen els actors de cada protocol i, d'altra banda, a executar el protocol complet fent interactuar els diferents actors. Addicionalment, podeu crear les funcions auxiliars que considereu d'interès per resoldre els exercicis.\n",
    "\n",
    "A continuació trobareu una petita [introducció a la programació orientada a objectes en Python](#1.--Introducció-a-la-programació-orientada-a-objectes-en-Python), on s'expliquen els conceptes clau d'aquest paradigma de programació (que seran necessaris per resoldre les activitats), així com la [definició de funcions i variables auxiliars](#2.--Definició-de-funcions-i-variables-auxiliars) que podeu fer servir en la implementació dels protocols.\n",
    "\n",
    "Després, s'inclouen els enunciats de dues activitats:\n",
    "* [Exercici 1](#3.--La-prova-de-coneixement-nul-del-logaritme-discret): La prova de coneixement nul del logaritme discret\n",
    "* [Exercici 2](#4.--El-protocol-de-PIR-de-Kushilevitz-i-Ostrovsky): El protocol de PIR de Kushilevitz i Ostrovsky"
   ]
  },
  {
   "cell_type": "markdown",
   "metadata": {
    "colab_type": "text",
    "id": "CXIufKgVtRx1"
   },
   "source": [
    "**Nota:** Les dues cel·les de codi següents permeten activar les alertes d'estil per al codi d'aquest *notebook*. Si voleu comprovar que el vostre codi segueix la guia d'estil de Python, podeu descomentar-les i executar-les. A partir d'aleshores, qualsevol altra cel·la de codi que s'executi passarà una revisió d'estil i es mostraran alertes que avisaran de les línies de codi que no compleixin amb la guia, tot informant de quin és el problema detectat."
   ]
  },
  {
   "cell_type": "code",
   "execution_count": 1,
   "metadata": {
    "colab": {},
    "colab_type": "code",
    "id": "z52Ng2vHtRx1"
   },
   "outputs": [],
   "source": [
    "# %load_ext pycodestyle_magic"
   ]
  },
  {
   "cell_type": "code",
   "execution_count": 2,
   "metadata": {
    "colab": {},
    "colab_type": "code",
    "id": "772F5kzktRx5"
   },
   "outputs": [],
   "source": [
    "# %pycodestyle_on"
   ]
  },
  {
   "cell_type": "code",
   "execution_count": 1,
   "metadata": {},
   "outputs": [
    {
     "name": "stdout",
     "output_type": "stream",
     "text": [
      "/Users/guillemhernandezsola/code/protocols-master/env/bin/python3.13\n"
     ]
    }
   ],
   "source": [
    "import sys\n",
    "print(sys.executable)"
   ]
  },
  {
   "cell_type": "markdown",
   "metadata": {
    "colab_type": "text",
    "id": "CmrVc6fqtRx7"
   },
   "source": [
    "# 1.- Introducció a la programació orientada a objectes en Python\n",
    "\n",
    "Python ens permet crear classes, de manera que podem aprofitar tots els avantatges de la programació orientada a objectes també en aquest llenguatge. En aquesta secció, presentarem les funcionalitats més essencials de les classes de Python i aprofitarem per repassar els conceptes bàsics de programació orientada a objectes.\n",
    "\n",
    "Per **definir** una classe en Python fem servir la paraula clau `class`. Dins d'una classe podrem definir-hi un conjunt de **mètodes**, que no són més que funcions que serveixen d'interfície de la classe amb el que hi ha fora d'aquesta. "
   ]
  },
  {
   "cell_type": "code",
   "execution_count": 2,
   "metadata": {
    "colab": {},
    "colab_type": "code",
    "id": "Cgbwt4yJtRx8"
   },
   "outputs": [],
   "source": [
    "class Client:\n",
    "\n",
    "    def public_value(self):\n",
    "        self.k_pub = pow(self.alpha, self.a, self.p)\n",
    "        return self.k_pub\n",
    "\n",
    "    def shared_key(self, k_pub_counter_part):\n",
    "        self.shared_key = pow(k_pub_counter_part, self.a, self.p)\n",
    "        return self.shared_key"
   ]
  },
  {
   "cell_type": "markdown",
   "metadata": {
    "colab_type": "text",
    "id": "82X8GV5RtRx-"
   },
   "source": [
    "De la mateixa manera que amb la definició de funcions, la definició d'una classe és només una descripció d'aquesta. Per tant, al descriure una classe no estem executant res. Per tal de crear un objecte d'una classe, necessitarem ***instanciar*** aquesta classe. La notació que es fa servir en Python per crear una instància d'una classe consisteix a fer servir el nom de la classe seguit de dos parèntesis, com si fos una crida a una funció:\n"
   ]
  },
  {
   "cell_type": "code",
   "execution_count": 3,
   "metadata": {
    "colab": {},
    "colab_type": "code",
    "id": "4ztGSdBRtRx-"
   },
   "outputs": [],
   "source": [
    "un_client = Client()"
   ]
  },
  {
   "cell_type": "markdown",
   "metadata": {
    "colab_type": "text",
    "id": "c2ZPGqZdtRyB"
   },
   "source": [
    "D'aquesta manera, la variable `un_client` conté una instància de la classe `Client`. Això ens crearia un client sense dades. A vegades, però, ens pot interessar personalitzar aquesta inicialització. Les classes tenen un mètode especial que s'anomena **constructor** (`__init__`) i que es crida quan s'ha d'instanciar una classe. Així, doncs, si incloem aquest mètode especial a la nostra classe, el mètode s'invocarà quan s'instanciï un nou objecte. "
   ]
  },
  {
   "cell_type": "code",
   "execution_count": 4,
   "metadata": {
    "colab": {},
    "colab_type": "code",
    "id": "LIQMHs1ttRyB"
   },
   "outputs": [],
   "source": [
    "class Client:\n",
    "\n",
    "    def __init__(self):\n",
    "        self.alpha = 3\n",
    "        self.a = 221\n",
    "        self.p = 1087\n",
    "\n",
    "    def public_value(self):\n",
    "        self.k_pub = pow(self.alpha, self.a, self.p)\n",
    "        return self.k_pub\n",
    "\n",
    "    def shared_key(self, k_pub_counter_part):\n",
    "        self.shared_key = pow(k_pub_counter_part, self.a, self.p)\n",
    "        return self.shared_key\n",
    "\n",
    "\n",
    "un_client = Client()"
   ]
  },
  {
   "cell_type": "markdown",
   "metadata": {
    "colab_type": "text",
    "id": "zrx_UyGvtRyE"
   },
   "source": [
    "Ara, al crear un objecte de la classe `Client`, l'objecte contindria una variable amb els tres valors especificats. Addicionalment, el mètode `__init__` accepta paràmetres, cosa que ens permet personalitzar encara més la inicialització dels objectes de la nostra classe."
   ]
  },
  {
   "cell_type": "code",
   "execution_count": 5,
   "metadata": {
    "colab": {},
    "colab_type": "code",
    "id": "RS9UztSFtRyE"
   },
   "outputs": [],
   "source": [
    "class Client:\n",
    "\n",
    "    def __init__(self, alpha, a, p):\n",
    "        self.alpha = alpha\n",
    "        self.a = a\n",
    "        self.p = p\n",
    "\n",
    "    def public_value(self):\n",
    "        self.k_pub = pow(self.alpha, self.a, self.p)\n",
    "        return self.k_pub\n",
    "\n",
    "    def shared_key(self, k_pub_counter_part):\n",
    "        self.shared_key = pow(k_pub_counter_part, self.a, self.p)\n",
    "        return self.shared_key\n",
    "\n",
    "\n",
    "un_client = Client(3, 221, 1087)\n",
    "un_a_client = Client(3, 254, 1087)"
   ]
  },
  {
   "cell_type": "markdown",
   "metadata": {
    "colab_type": "text",
    "id": "0thJfXhGtRyH"
   },
   "source": [
    "Amb aquest codi, especificarem els tres paràmetres que volem que emmagatzemi cada client en el moment d'instanciar la classe. D'aquesta manera, podem crear dos objectes de la classe client, cadascun dels quals té uns paràmetres diferents emmagatzemats.\n",
    "\n",
    "Una vegada tenim una instància d'una classe, podem invocar-ne els mètodes. Per fer-ho, farem servir el nom de l'objecte seguit d'un punt, el nom del mètode i uns parèntesis entre els quals inclourem els arguments:"
   ]
  },
  {
   "cell_type": "code",
   "execution_count": 6,
   "metadata": {
    "colab": {},
    "colab_type": "code",
    "id": "Loz9tp4ZtRyI"
   },
   "outputs": [
    {
     "data": {
      "text/plain": [
       "731"
      ]
     },
     "execution_count": 6,
     "metadata": {},
     "output_type": "execute_result"
    }
   ],
   "source": [
    "un_client.shared_key(679)"
   ]
  },
  {
   "cell_type": "markdown",
   "metadata": {
    "colab_type": "text",
    "id": "VGz5GMxCtRyK"
   },
   "source": [
    "En els exemples de codi que hem vist fins ara pot semblar que hi ha un error: el nombre d'arguments que fem servir a l'instanciar l'objecte o cridar els mètodes és diferent del nombre d'arguments que hi ha a la definició dels respectius mètodes. Precisament, el que distingeix els mètodes d'una classe de les funcions és que el primer argument que reben com a paràmetre és un objecte de la mateixa classe. Per convenció, anomenem aquest primer argument **`self`**. Així, doncs, la crida a `blind_message` anterior és equivalent a:"
   ]
  },
  {
   "cell_type": "code",
   "execution_count": 7,
   "metadata": {
    "colab": {},
    "colab_type": "code",
    "id": "ul-uADhttRyK"
   },
   "outputs": [
    {
     "data": {
      "text/plain": [
       "731"
      ]
     },
     "execution_count": 7,
     "metadata": {},
     "output_type": "execute_result"
    }
   ],
   "source": [
    "Client.shared_key(un_client, 679)"
   ]
  },
  {
   "cell_type": "markdown",
   "metadata": {
    "colab_type": "text",
    "id": "3g1E-k05tRyM"
   },
   "source": [
    "Aquest primer argument ens permet cridar mètodes de la classe des de la mateixa classe:"
   ]
  },
  {
   "cell_type": "code",
   "execution_count": 8,
   "metadata": {
    "colab": {},
    "colab_type": "code",
    "id": "kYeL3zHWtRyN"
   },
   "outputs": [],
   "source": [
    "class Client:\n",
    "\n",
    "    def shared_key(self, k_pub_counter_part):\n",
    "        self.shared_key = pow(k_pub_counter_part, self.a, self.p)\n",
    "        return self.shared_key\n",
    "\n",
    "    def call_shared_key(self, k_pub_counter_part):\n",
    "        self.shared_key()"
   ]
  },
  {
   "cell_type": "markdown",
   "metadata": {
    "colab_type": "text",
    "id": "FQV7P6xetRyP"
   },
   "source": [
    "L'altre detall que podem apreciar dels exemples són les assignacions que es fan a `self.alpha`, `self.a` i `self.p`, entre d'altres. Aquestes variables són **variables d'instància**, de manera que cada instància de la classe `Client` tindrà la seva còpia d'aquestes variables. A Python també podem definir **variables de classe**, que són variables que comparteixen totes les instàncies d'una mateixa classe. En el següent exemple, podem veure la diferència entre els dos tipus de variables:"
   ]
  },
  {
   "cell_type": "code",
   "execution_count": 9,
   "metadata": {
    "colab": {},
    "colab_type": "code",
    "id": "oIvjibS7tRyP"
   },
   "outputs": [],
   "source": [
    "class Client:\n",
    "\n",
    "    shared_type = \"DH\"\n",
    "\n",
    "    def __init__(self, alpha, a, p):\n",
    "        self.alpha = alpha\n",
    "        self.a = a\n",
    "        self.p = p"
   ]
  },
  {
   "cell_type": "code",
   "execution_count": 10,
   "metadata": {
    "colab": {
     "base_uri": "https://localhost:8080/",
     "height": 50
    },
    "colab_type": "code",
    "id": "w_KsfSEmtRyU",
    "outputId": "d9d1ac68-438e-4807-acc8-e7bf39888013"
   },
   "outputs": [
    {
     "name": "stdout",
     "output_type": "stream",
     "text": [
      "3 221 1087\n",
      "3 254 1087\n"
     ]
    }
   ],
   "source": [
    "client_1 = Client(3, 221, 1087)\n",
    "client_2 = Client(3, 254, 1087)\n",
    "\n",
    "print(client_1.alpha, client_1.a, client_1.p)\n",
    "print(client_2.alpha, client_2.a, client_2.p)"
   ]
  },
  {
   "cell_type": "code",
   "execution_count": 12,
   "metadata": {
    "colab": {
     "base_uri": "https://localhost:8080/",
     "height": 50
    },
    "colab_type": "code",
    "id": "JBLviq6VtRyX",
    "outputId": "36c2a9ec-26da-42d3-92b7-e713f91c03c4"
   },
   "outputs": [
    {
     "name": "stdout",
     "output_type": "stream",
     "text": [
      "DH DH DH\n",
      "ECDH ECDH ECDH\n"
     ]
    }
   ],
   "source": [
    "print(Client.shared_type, client_1.shared_type, client_2.shared_type)\n",
    "Client.shared_type = \"ECDH\"\n",
    "print(Client.shared_type, client_1.shared_type, client_2.shared_type)"
   ]
  },
  {
   "cell_type": "markdown",
   "metadata": {
    "colab_type": "text",
    "id": "2WstOtsOtRyZ"
   },
   "source": [
    "Cal anar amb compte a l'hora de modificar els valors de les variables de classe, ja que fer-ho a través dels objectes pot tenir resultats diferents dels que esperaria el programador. El lector interessat pot consultar l'extensa documentació en línia ([1](http://stackoverflow.com/questions/68645/static-class-variables-in-python), [2](http://anandology.com/python-practice-book/object_oriented_programming.html)) per endinsar-se en el món de la programació orientada a objectes en Python, tot i que el que hem vist en aquesta secció és suficient per realitzar la pràctica."
   ]
  },
  {
   "cell_type": "markdown",
   "metadata": {
    "colab_type": "text",
    "id": "tELFP0QwFdYo"
   },
   "source": [
    "Finalment, una vegada tenim definits els usuaris del nostre protocol com a classes de Python, podem implementar tot el protocol fent crides a aquestes classes. Per exemple, la classe `Client` de l'exemple anterior correspon a un usuari del protocol d'intercanvi de claus de Diffie i Hellman. Per tant, la implementació del protocol seria la que es mostra a continuació. "
   ]
  },
  {
   "cell_type": "code",
   "execution_count": 13,
   "metadata": {
    "colab": {
     "base_uri": "https://localhost:8080/",
     "height": 34
    },
    "colab_type": "code",
    "id": "GTA6feQFGPba",
    "outputId": "54f32e46-b275-4022-af80-70e77e972907"
   },
   "outputs": [
    {
     "name": "stdout",
     "output_type": "stream",
     "text": [
      "Shared key obtained by A = 895. Shared key obtained by B = 895\n"
     ]
    }
   ],
   "source": [
    "class Client:\n",
    "\n",
    "    def __init__(self, alpha, a, p):\n",
    "        self.alpha = alpha\n",
    "        self.a = a\n",
    "        self.p = p\n",
    "\n",
    "    def public_value(self):\n",
    "        self.k_pub = pow(self.alpha, self.a, self.p)\n",
    "        return self.k_pub\n",
    "\n",
    "    def shared_key(self, k_pub_counter_part):\n",
    "        self.shared_key = pow(k_pub_counter_part, self.a, self.p)\n",
    "        return self.shared_key\n",
    "\n",
    "\n",
    "user_A = Client(3, 221, 1087)\n",
    "user_B = Client(3, 254, 1087)\n",
    "\n",
    "protocol_step_1 = user_A.public_value()\n",
    "protocol_step_2 = user_B.public_value()\n",
    "shared_key_A = user_A.shared_key(protocol_step_2)\n",
    "shared_key_B = user_B.shared_key(protocol_step_1)\n",
    "\n",
    "print(\"Shared key obtained by A = {}. Shared key obtained by B = {}\".format(\n",
    "            shared_key_A, shared_key_B))"
   ]
  },
  {
   "cell_type": "markdown",
   "metadata": {
    "colab_type": "text",
    "id": "vzpX9zHCtRyZ"
   },
   "source": [
    "# 2.- Definició de funcions i variables auxiliars"
   ]
  },
  {
   "cell_type": "markdown",
   "metadata": {
    "colab_type": "text",
    "id": "ZANl0i6VtRyZ"
   },
   "source": [
    "La cel·la de codi següent conté definicions de constants, classes i funcions que es fan servir en la implementació dels protocols criptogràfics d'aquest *notebook*. Veureu que aquestes definicions es fan servir en els esquelets que us proporcionem com a base per realitzar les activitats. A més, podeu fer servir aquestes funcions per implementar les vostres solucions sempre que ho necessiteu.\n",
    "\n",
    "La classe `InvalidParams` (que hereta de la classe [`Exception`](https://docs.python.org/3/library/exceptions.html#Exception)) es fa servir per a llançar excepcions produïdes per una inicialització de paràmetres incorrecta. Per exemple, si tinguéssim una classe que emmagatzemés claus RSA, podríem fer servir `InvalidParams` per llançar una excepció si s'intenta crear un objecte de la classe RSA fent servir valors de $p$ i $q$ que no fossin primers.\n",
    "\n",
    "La funció `print_debug` es fa servir per mostrar missatges per la sortida estàndard, condicionats als nivells de *log* actual (indicat per la constant `LOG_LEVEL`) i del missatge (indicat pel paràmetre `log_level`). Així, la funció mostrarà a la pantalla el missatge que rebi com a primer paràmetre si el nivell de *log* indicat pel missatge és inferior o igual al nivell de *log* especificat per la constant `LOG_LEVEL`."
   ]
  },
  {
   "cell_type": "code",
   "execution_count": 11,
   "metadata": {
    "colab": {},
    "colab_type": "code",
    "id": "uis_oDgFtRya"
   },
   "outputs": [],
   "source": [
    "# Log level constants\n",
    "LOG_CRITICAL = 0\n",
    "LOG_INFO = 1\n",
    "LOG_DEBUG = 2\n",
    "\n",
    "# Current log level\n",
    "LOG_LEVEL = LOG_CRITICAL\n",
    "\n",
    "\n",
    "class InvalidParams(Exception):\n",
    "    \"\"\"\n",
    "    Exception raised when the initialization params are not valid\n",
    "    \"\"\"\n",
    "    pass\n",
    "\n",
    "\n",
    "def print_debug(msg, log_level):\n",
    "    \"\"\"\n",
    "    Prints a message if log_level <= LOG_LEVEL\n",
    "    :param msg: string, the message to print\n",
    "    :param log_level: int, message's level\n",
    "    \"\"\"\n",
    "    if log_level <= LOG_LEVEL:\n",
    "        print(msg)"
   ]
  },
  {
   "cell_type": "markdown",
   "metadata": {
    "colab_type": "text",
    "id": "csGpieD-tRyc"
   },
   "source": [
    "# 3.- La prova de coneixement nul del logaritme discret\n",
    "\n",
    "En aquest primer exercici implementarem el protocol de **prova de coneixement nul** que hi ha descrit al mòdul de *Protocols criptogràfics* dels materials de l’assignatura.\n",
    "\n",
    "Així, doncs, el nostre protocol estarà format per dos usuaris: un provador i un verificador. El provador voldrà demostrar al verificador que coneix un valor secret, però sense revelar-lo. \n",
    "\n",
    "Per tal que el nostre protocol pugui ser implementat, farem servir programació orientada a objectes i definirem dues classes, una per al provador i una altra per al verificador.\n",
    "\n",
    "La classe per al **provador** la definirem de la manera següent:"
   ]
  },
  {
   "cell_type": "code",
   "execution_count": 12,
   "metadata": {
    "colab": {},
    "colab_type": "code",
    "id": "xt2cnlWGtRyd"
   },
   "outputs": [
    {
     "name": "stdout",
     "output_type": "stream",
     "text": [
      "Requirement already satisfied: sympy in ./env/lib/python3.13/site-packages (1.14.0)\n",
      "Requirement already satisfied: mpmath<1.4,>=1.1.0 in ./env/lib/python3.13/site-packages (from sympy) (1.3.0)\n"
     ]
    }
   ],
   "source": [
    "!pip install sympy\n",
    "from sympy.ntheory.residue_ntheory import is_primitive_root\n",
    "from sympy.ntheory.primetest import isprime\n",
    "\n",
    "\n",
    "class UocZkpProver:\n",
    "    \"\"\"\n",
    "    Class representing a honest prover. The prover knowns a value x\n",
    "        such that g^x = y mod p, and wants to prove this knowledge\n",
    "        without revealing x.\n",
    "    \"\"\"\n",
    "\n",
    "    def __init__(self, p, g, y, x, name=\"HonestProver\"):\n",
    "        \"\"\"\n",
    "        Initializes the prover. Checks the validity of the arguments,\n",
    "        sets the public parameters p, g, y and sets the\n",
    "        secret x.\n",
    "\n",
    "        This method has to initialize instance variables p, g, y and\n",
    "        x (r will remain unset until compute_c method is called).\n",
    "\n",
    "        :param p: integer, modulus\n",
    "        :param g: integer, base\n",
    "        :param y: integer, g^x mod p\n",
    "        :param x: integer, secret\n",
    "        :param name: optional string, name of the prover (to be used\n",
    "            when printing data to the console)\n",
    "        \"\"\"\n",
    "\n",
    "        self.p = None\n",
    "        self.g = None\n",
    "        self.y = None\n",
    "        self.x = None\n",
    "        self.r = None\n",
    "        self.name = name\n",
    "\n",
    "        try:\n",
    "            assert (isprime(p))\n",
    "            assert (y < p)\n",
    "            assert (is_primitive_root(g, p))\n",
    "            if x is not None:\n",
    "                assert (pow(g, x, p) == y)\n",
    "        except:\n",
    "            raise InvalidParams\n",
    "\n",
    "        self.p = p\n",
    "        self.g = g\n",
    "        self.y = y\n",
    "        self.x = x\n",
    "\n",
    "        print_debug(\"{}:\\tInitialized with p = {}, g = {}, y = {} and x = {}\".\n",
    "                    format(self.name, self.p, self.g, self.y, self.x),\n",
    "                    LOG_INFO)\n",
    "\n",
    "    def compute_c(self):\n",
    "        \"\"\"\n",
    "        Chooses a random r and computes c.\n",
    "\n",
    "        This method must set self.r.\n",
    "        :return: integer, c\n",
    "        \"\"\"\n",
    "\n",
    "        c = None\n",
    "\n",
    "        # --- IMPLEMENTATION GOES HERE ---\n",
    "\n",
    "        # --------------------------------\n",
    "\n",
    "        print_debug(\"{}:\\tI amb sending c = {}\".format(self.name, c), LOG_INFO)\n",
    "        return c\n",
    "\n",
    "    def compute_h(self, b):\n",
    "        \"\"\"\n",
    "        Computes h for the given b.\n",
    "        :param b: integer with a boolean value (0 or 1)\n",
    "        :return: integer, h\n",
    "        \"\"\"\n",
    "\n",
    "        h = None\n",
    "\n",
    "        # --- IMPLEMENTATION GOES HERE ---\n",
    "\n",
    "        # --------------------------------\n",
    "\n",
    "        print_debug(\"{}:\\tI amb sending h = {}\".format(self.name, h), LOG_INFO)\n",
    "        return h"
   ]
  },
  {
   "cell_type": "markdown",
   "metadata": {
    "colab_type": "text",
    "id": "5EkysTRvtRye"
   },
   "source": [
    "Fixeu-vos que el provador té com a variables d’instància els paràmetres del sistema `p` i `g`, el valor del qual vol provar el logaritme discret `y` i el valor secret `x` que correspon justament al logaritme discret d'`y` en base `g` mòdul `p`. També s’ha de poder guardar el valor `r` que generarà en el primer pas del protocol i que després utilitzarà en el tercer pas. A l’hora d’inicialitzar aquests paràmetres (en el constructor de la classe), es comprova que siguin vàlids a través de sentències `assert`. En la definició del provador també hi ha definides dues accions per mitjà de dos mètodes. El primer calcula `c`, el valor necessari per al primer pas del protocol. El segon mètode calcula el valor `h`, necessari en el tercer pas del protocol."
   ]
  },
  {
   "cell_type": "markdown",
   "metadata": {
    "colab_type": "text",
    "id": "_JwCd-r3tRyf"
   },
   "source": [
    "D’altra banda, de forma anàloga definirem una classe per al **verificador**:"
   ]
  },
  {
   "cell_type": "code",
   "execution_count": 13,
   "metadata": {
    "colab": {},
    "colab_type": "code",
    "id": "lDt6cahStRyg"
   },
   "outputs": [],
   "source": [
    "class UocZkpVerifier:\n",
    "    \"\"\"\n",
    "    Class representing a verifier. The verifier wants to known whether\n",
    "        the prover has a value x such that g^x = y mod p.\n",
    "    \"\"\"\n",
    "\n",
    "    def __init__(self, p, g, y, name=\"Verifier\"):\n",
    "        \"\"\"\n",
    "        Initializes the verifier. Checks the validity of the arguments,\n",
    "            and sets the public parameters p, g, y.\n",
    "\n",
    "        This method has to initialize instance variables p, g and y (c\n",
    "            and b will remain unset until choose_b method is called).\n",
    "\n",
    "        :param p: integer, modulus\n",
    "        :param g: integer, base\n",
    "        :param y: integer, g^x mod p\n",
    "        :param name: optional string, name of the verifier (to be used\n",
    "            when printing data to the console)\n",
    "        \"\"\"\n",
    "        self.p = None\n",
    "        self.g = None\n",
    "        self.y = None\n",
    "        self.c = None\n",
    "        self.b = None\n",
    "        self.name = name\n",
    "\n",
    "        try:\n",
    "            assert (isprime(p))\n",
    "            assert (y < p)\n",
    "            assert (is_primitive_root(g, p))\n",
    "\n",
    "        except:\n",
    "            raise InvalidParams\n",
    "\n",
    "        self.p = p\n",
    "        self.g = g\n",
    "        self.y = y\n",
    "\n",
    "        print_debug(\"{}:\\t\\tInitialized with p = {}, g = {} and y = {}\".format(\n",
    "            self.name, self.p, self.g, self.y), LOG_INFO)\n",
    "\n",
    "    def choose_b(self, c):\n",
    "        \"\"\"\n",
    "        Selects a random boolean b value.\n",
    "\n",
    "        This method has to initialize instance variables b and c.\n",
    "        :param c: integer, value c (received from the prover)\n",
    "        :return: integer, b with the chosen boolean\n",
    "        \"\"\"\n",
    "\n",
    "        # --- IMPLEMENTATION GOES HERE ---\n",
    "\n",
    "        # --------------------------------\n",
    "\n",
    "        print_debug(\"{}:\\t\\tI have chosen b = {}\".format(self.name, self.b),\n",
    "                    LOG_INFO)\n",
    "        return self.b\n",
    "\n",
    "    def verify(self, h):\n",
    "        \"\"\"\n",
    "        Verifies if the prover has correctly solved the challenge.\n",
    "\n",
    "        :param h: integer, value h (received from the proves)\n",
    "        :return: boolean, result of the proof\n",
    "        \"\"\"\n",
    "\n",
    "        result = None\n",
    "\n",
    "        # --- IMPLEMENTATION GOES HERE ---\n",
    "\n",
    "        # --------------------------------\n",
    "\n",
    "        print_debug(\"{}:\\t\\tThe result of the verification is {}\".format(\n",
    "            self.name, result), LOG_INFO)\n",
    "        return result"
   ]
  },
  {
   "cell_type": "markdown",
   "metadata": {
    "colab_type": "text",
    "id": "a-v-VlDUtRyj"
   },
   "source": [
    "Igual que el provador, el verificador també emmagatzema les variables corresponents als paràmetres del sistema `p` i `g` i el valor `y` del qual el provador coneix el logaritme discret. Evidentment, el verificador no coneix el valor `x`. D’altra banda, en la definició del verificador també hi ha definides dues accions per mitjà de dos mètodes. El primer tria el bit `b` necessari en el segon pas del protocol. El segon mètode verifica la igualtat del pas 4 a partir dels valors que s’han anat intercanviant al protocol."
   ]
  },
  {
   "cell_type": "markdown",
   "metadata": {
    "colab_type": "text",
    "id": "FQtX8H56tRyj"
   },
   "source": [
    "Aquesta primera activitat consistirà, doncs, a implementar els mètodes de càlcul dels valors $c$ i $h$ de la classe del provador, i els mètodes de selecció del bit $b$ i verificació de la prova, de la classe del verificador."
   ]
  },
  {
   "cell_type": "markdown",
   "metadata": {
    "colab_type": "text",
    "id": "zBqj_RZvtRyj"
   },
   "source": [
    "**Exercici 1.1** Funció que implementa el mètode `compute_c` de la classe del provador.\n",
    "\n",
    "Aquest mètode implementarà el pas 1 del protocol. El mètode, sense rebre cap paràmetre, generarà un valor aleatori i en retornarà el corresponent valor `c`.\n",
    "* El mètode no rebrà cap paràmetre.\n",
    "* El mètode retornarà el valor `c` calculat en el pas 1 del protocol (i actualitzarà les variables d'instància pertinents)."
   ]
  },
  {
   "cell_type": "markdown",
   "metadata": {
    "colab_type": "text",
    "id": "Jrs2zPrHtRyk"
   },
   "source": [
    "**Exercici 1.2** Funció que implementa el mètode `compute_h` de la classe del provador.\n",
    "\n",
    "Aquest mètode implementarà el pas 3 del protocol. El mètode rebrà el bit que ha triat el verificador i en retornarà el corresponent valor `h`.\n",
    "* La variable `b` rebrà el bit triat.\n",
    "* La funció retornarà el valor `h` del pas 3 del protocol."
   ]
  },
  {
   "cell_type": "markdown",
   "metadata": {
    "colab_type": "text",
    "id": "ucxv6sG5tRyk"
   },
   "source": [
    "**Exercici 1.3** Funció que implementa el mètode `choose_b` de la classe del verificador.\n",
    "\n",
    "Aquest mètode implementarà el pas 2 del protocol. El mètode, sense rebre cap paràmetre, retornarà un bit aleatori.\n",
    "* El mètode no rebrà cap paràmetre.\n",
    "* El mètode retornarà el bit aleatori `b` (i actualitzarà les variables d'instància pertinents)."
   ]
  },
  {
   "cell_type": "markdown",
   "metadata": {
    "colab_type": "text",
    "id": "r4gL-g2PtRyk"
   },
   "source": [
    "**Exercici 1.4** Funció que implementa el mètode `verify` de la classe del provador.\n",
    "\n",
    "Aquest mètode implementarà el pas 4 del protocol. El mètode rebrà el valor `h` i retornarà cert o fals en funció de si la validació ha estat correcta o no.\n",
    "* El paràmetre `h` contindrà el valor proporcionat pel provador.\n",
    "* El mètode retornarà `True` o `False`, en funció de si la verificació és o no correcta."
   ]
  },
  {
   "cell_type": "markdown",
   "metadata": {
    "colab_type": "text",
    "id": "ZStk1F3ftRyl"
   },
   "source": [
    "**Exercici 1.5** Funció que implementa el protocol.\n",
    "\n",
    "Aquesta funció implementarà el protocol sencer entre provador i verificador. La funció `challenge` rebrà com a variables d'entrada una instància de la classe provador, una instància de la classe verificador i el nombre d'iteracions que ha d'executar el protocol. La funció executarà el protocol de la prova de coneixement nul tantes vegades com s'hagi especificat i retornarà un booleà indicant si l'execució ha tingut èxit i un float amb la probabilitat que tenia un provador deshonest de superar la prova amb èxit.\n",
    "* El paràmetre `prover` contindrà una instància de la classe del provador.\n",
    "* El paràmetre `verifier` contindrà una instància de la classe del verificador.\n",
    "* El paràmetre `num_times` contindrà el nombre d'iteracions que executarà el protocol.\n",
    "* La funció retornarà una tupla `(A, B)` on `A` serà `True` o `False` en funció de si el provador ha superat la prova, i `B` la probabilitat que un provador que desconegui el secret pugui enganyar el verificador.\n",
    "\n",
    "Feu servir la funció que acabeu de definir per executar el protocol entre un provador i un verificador fent servir 1 i 10 iteracions, i:\n",
    "* Comproveu que el provador és capaç de superar el repte.\n",
    "* Mostreu la probabilitat teòrica d'engany que tindria un provador que desconegui el secret per als dos casos."
   ]
  },
  {
   "cell_type": "code",
   "execution_count": 14,
   "metadata": {
    "colab": {},
    "colab_type": "code",
    "id": "kRxiuPc5tRyl"
   },
   "outputs": [],
   "source": [
    "def challenge(prover, verifier, num_times=1):\n",
    "    \"\"\"\n",
    "    Executes the full zero knowledge protocol between a prover and\n",
    "        a verifier num_times times. The execution of the protocol\n",
    "        is successful if the prover is able to convice the verifier\n",
    "        in all the executions.\n",
    "\n",
    "    :param prover: UocZkpProver object\n",
    "    :param verifier: UocZkpVerifier object\n",
    "    :param num_times: integer, number of times to execute the ZKP\n",
    "    :return: 2-element tuple, a boolean indicating whether the challenge\n",
    "        was successful and a float\n",
    "    \"\"\"\n",
    "\n",
    "    success, prob = None, None\n",
    "\n",
    "    # --- IMPLEMENTATION GOES HERE ---\n",
    "\n",
    "    # --------------------------------\n",
    "\n",
    "    return success, prob"
   ]
  },
  {
   "cell_type": "markdown",
   "metadata": {
    "colab_type": "text",
    "id": "HU5yNsFNtRyn"
   },
   "source": [
    "# 4.- El protocol de PIR de Kushilevitz i Ostrovsky\n",
    "\n",
    "En aquest segon exercici implementarem el protocol de PIR de **Kushilevitz i Ostrovsky** que hi ha descrit al mòdul de *Protocols criptogràfics* dels materials de l’assignatura.\n",
    "\n",
    "Així, doncs, el nostre protocol estarà format per dues entitats: una base de dades, que mantindrà una matriu de bits (de mida $s \\times t$), i un usuari de la base de dades, que voldrà consultar un dels bits de la matriu (el que es troba a la posició $(ip, jp)$).\n",
    "\n",
    "Per tal que el nostre protocol pugui ser implementat, farem servir programació orientada a objectes i definirem dues classes, una per a l'usuari i una altra per a la base de dades.\n",
    "\n",
    "La classe per a l'**usuari** la definirem de la manera següent:"
   ]
  },
  {
   "cell_type": "code",
   "execution_count": 15,
   "metadata": {
    "colab": {},
    "colab_type": "code",
    "id": "MhLhkKUxtRyn"
   },
   "outputs": [],
   "source": [
    "class User:\n",
    "    \"\"\"\n",
    "    Class representing a user that wants to query a database (which is a\n",
    "        matrix m of s x t bits). The user knows the size of the matrix,\n",
    "        and wants to query for the content a specific position m_{ij}.\n",
    "    \"\"\"\n",
    "\n",
    "    def __init__(self, n_bits=8, s=3, t=5):\n",
    "        \"\"\"\n",
    "        Initializes the user. Creates a Goldwasser-Micali public key, and\n",
    "            stores it in instance variables.\n",
    "\n",
    "        This method has to initialize instance variables p, q, n, a, s and\n",
    "            t (ip and ij will remain unset until the prepare_query method\n",
    "            is called).\n",
    "\n",
    "        :param n_bits: integer, number of bits of the public key modulus.\n",
    "        :param s: integer, number of rows of the database matrix.\n",
    "        :param t: integer, number of columns of the database matrix.\n",
    "        \"\"\"\n",
    "\n",
    "        self.p, self.q, self.n, self.a = None, None, None, None\n",
    "        self.s, self.t = None, None\n",
    "        self.ip, self.jp = None, None\n",
    "\n",
    "        # --- IMPLEMENTATION GOES HERE ---\n",
    "\n",
    "        # --------------------------------\n",
    "\n",
    "        print_debug(\"[U]  PK = ({}, {}), sk = ({}, {})\".format(\n",
    "            self.n, self.a, self.p, self.q), LOG_INFO)\n",
    "\n",
    "    def prepare_query(self, ip, jp):\n",
    "        \"\"\"\n",
    "        Computes the values to query the database for position (ip, jp)\n",
    "            from the database matrix. Checks that the received indexes\n",
    "            are valid, and computes the values to send to the database.\n",
    "\n",
    "        This method has to initialize instance variables ip and jp.\n",
    "\n",
    "        :param ip: integer, row of the database matrix to query.\n",
    "        :param jp: integer, column of the database matrix to query.\n",
    "        :return: two-elements tuple, the modulus n (an integer) and\n",
    "            a list of the x_i values (integers).\n",
    "        \"\"\"\n",
    "\n",
    "        x = None\n",
    "\n",
    "        # --- IMPLEMENTATION GOES HERE ---\n",
    "\n",
    "        # --------------------------------\n",
    "\n",
    "        print_debug(\"[U]  Query for index ({}, {})\".format(ip, jp), LOG_INFO)\n",
    "        print_debug(\"[U]  n = {}, x = {}\".format(self.n, x), LOG_INFO)\n",
    "        return self.n, x\n",
    "\n",
    "    def recover_bit(self, z):\n",
    "        \"\"\"\n",
    "        Recovers the bit in position (ip, jp) of the database matrix from\n",
    "            the values z sent by the database.\n",
    "\n",
    "        :param z: list of integers, as received from the database.\n",
    "        :return: integer, the recovered bit.\n",
    "        \"\"\"\n",
    "\n",
    "        recovered_bit = None\n",
    "\n",
    "        # --- IMPLEMENTATION GOES HERE ---\n",
    "\n",
    "        # --------------------------------\n",
    "\n",
    "        print_debug(\"[U]  Recovered bit: {}\".format(recovered_bit), LOG_INFO)\n",
    "        return recovered_bit"
   ]
  },
  {
   "cell_type": "markdown",
   "metadata": {
    "colab_type": "text",
    "id": "_RsS57IUtRyp"
   },
   "source": [
    "Fixeu-vos que l'usuari té com a variables d’instància la clau pública del criptosistema de Goldwasser-Micali que fa servir per fer la consulta (`p`, `q`, `n` i `a`), la mida de la matriu de la base de dades a consultar (`s` i `t`) i els índexs de la posició que vol consultar (`ip`, `jp`). La clau pública de l'usuari es genera aleatòriament en el constructor de la classe, considerant que la mida del mòdul ha de ser d'`n_bits` bits. Els valors dels índexs a consultar s'establiran quan es cridi el mètode `prepare_query`, moment en el qual l'usuari prepararà la consulta que s'ha d'enviar a la base de dades. Finalment, donada la resposta de la base de dades, el mètode `recover_bit` implementarà la recuperació del valor consultat."
   ]
  },
  {
   "cell_type": "markdown",
   "metadata": {
    "colab_type": "text",
    "id": "Qq6C_eiytRyp"
   },
   "source": [
    "D’altra banda, definirem una classe per a la **base de dades**:"
   ]
  },
  {
   "cell_type": "code",
   "execution_count": 16,
   "metadata": {
    "colab": {},
    "colab_type": "code",
    "id": "0KCYkF3RtRyq"
   },
   "outputs": [],
   "source": [
    "class Database:\n",
    "    \"\"\"\n",
    "    Class representing the database that is queried with the PIR protocol.\n",
    "        The database stores a matrix m of s x t bits.\n",
    "    \"\"\"\n",
    "\n",
    "    def __init__(self, s=3, t=5):\n",
    "        \"\"\"\n",
    "        Initializes the database by generating a random matrix of bits of\n",
    "            size sxt.\n",
    "\n",
    "        This method has to initialize instance variables s, t and m.\n",
    "\n",
    "        :param s: integer, number of rows of the database matrix.\n",
    "        :param t: integer, number of columns of the database matrix.\n",
    "        \"\"\"\n",
    "\n",
    "        self.s, self.t = None, None\n",
    "        self.m = None\n",
    "\n",
    "        # --- IMPLEMENTATION GOES HERE ---\n",
    "\n",
    "        # --------------------------------\n",
    "\n",
    "        print_debug(\"[DB] The database is:\\n{}\".format(self.m), LOG_INFO)\n",
    "\n",
    "    def query(self, n, x):\n",
    "        \"\"\"\n",
    "        Processes a query from a user.\n",
    "\n",
    "        :param n: integer, the modulus n from the user's public key.\n",
    "        :param x: list of integers, the x_j values as received from the user.\n",
    "        :return: list of integers, the z_i values that constitute the\n",
    "            database response.\n",
    "        \"\"\"\n",
    "\n",
    "        z = None\n",
    "\n",
    "        # --- IMPLEMENTATION GOES HERE ---\n",
    "\n",
    "        # --------------------------------\n",
    "\n",
    "        print_debug(\"[DB] z = {}\".format(z), LOG_INFO)\n",
    "        return z"
   ]
  },
  {
   "cell_type": "markdown",
   "metadata": {
    "colab_type": "text",
    "id": "EBRHkVOQtRyr"
   },
   "source": [
    "La base de dades té com a variables d'instància la mida de la matriu de la base de dades a consultar (`s` i `t`), així com la matriu en si (`m`). En el constructor de la classe, la matriu de bits s'inicialitza aleatòriament per simular les dades que tindria emmagatzemades. El mètode `query` implementa el càlcul de la resposta que fa la base de dades a una petició de l'usuari, considerant la matriu de bits emmagatzemada."
   ]
  },
  {
   "cell_type": "markdown",
   "metadata": {
    "colab_type": "text",
    "id": "8labikmTtRys"
   },
   "source": [
    "Aquesta segona activitat consistirà, doncs, a implementar els mètodes d'inicialització de les dues classes, així com els mètodes `prepare_query` i `recover_bit` de la classe que representa un usuari, i el mètode `query` de la classe de la base de dades."
   ]
  },
  {
   "cell_type": "markdown",
   "metadata": {
    "colab_type": "text",
    "id": "778CGM2TtRys"
   },
   "source": [
    "**Exercici 2.1** Funció que implementa el constructor (`__init__`) de la classe de l'usuari.\n",
    "\n",
    "Aquest mètode implementarà el pas 1 del protocol. El mètode rebrà la mida del mòdul de la clau pública a generar i la mida de la matriu de la base de dades i generarà una clau pública aleatòria del criptosistema de Goldwasser-Micali de la mida especificada. El mètode no retornarà cap valor.\n",
    "* El paràmetre `n_bits` contindrà la mida del mòdul de la clau pública en bits. Per defecte, aquest valor serà 8.\n",
    "* El paràmetre `s` contindrà el nombre de files de la matriu de la base de dades. Per defecte, aquest valor serà 3.\n",
    "* El paràmetre `t` contindrà el nombre de columnes de la matriu de la base de dades. Per defecte, aquest valor serà 5.\n",
    "* El mètode no retornarà cap valor, però sí que actualitzarà les variables d'instància pertinents."
   ]
  },
  {
   "cell_type": "markdown",
   "metadata": {
    "colab_type": "text",
    "id": "gB1ZYkyutRys"
   },
   "source": [
    "**Exercici 2.2** Funció que implementa el constructor (`__init__`) de la classe de la base de dades.\n",
    "\n",
    "Aquest mètode implementarà la inicialització de la base de dades. El constructor rep la mida de la matriu de bits a emmagatzemar i genera una matriu de bits aleatoris de la mida especificada.\n",
    "* El paràmetre `s` contindrà el nombre de files de la matriu de la base de dades. Per defecte, aquest valor serà 3.\n",
    "* El paràmetre `t` contindrà el nombre de columnes de la matriu de la base de dades. Per defecte, aquest valor serà 5.\n",
    "* El mètode no retornarà cap valor, però sí que actualitzarà les variables d'instància pertinents."
   ]
  },
  {
   "cell_type": "markdown",
   "metadata": {
    "colab_type": "text",
    "id": "hNfQ5tsjtRyt"
   },
   "source": [
    "**Exercici 2.3** Funció que implementa el mètode `prepare_query` de la classe de l'usuari.\n",
    "\n",
    "Aquest mètode implementarà el pas 2 del protocol. El mètode rebrà els índexs del bit de la base de dades a consultar i calcularà la llista de valors $x_j$ que codifiquen la consulta que cal realitzar, tot seleccionant aleatòriament els valors $r_j$. El mètode retornarà els valors a enviar a la base de dades: el mòdul de la clau pública de l'usuari, $n$, i la llista de valors $x_j$ calculats.\n",
    "* El paràmetre `ip` contindrà la fila de la matriu on hi ha el bit que cal consultar.\n",
    "* El paràmetre `jp` contindrà la columna de la matriu on hi ha el bit que cal consultar.\n",
    "* La funció retornarà una tupla amb dos valors: el mòdul de la clau pública, `n` (un enter); i la llista de valors enters $x_j$ per $j \\in [1, t]$."
   ]
  },
  {
   "cell_type": "markdown",
   "metadata": {
    "colab_type": "text",
    "id": "2fz8smGFtRyt"
   },
   "source": [
    "**Exercici 2.4** Funció que implementa el mètode `query` de la classe de la base de dades.\n",
    "\n",
    "Aquest mètode implementarà el pas 3 del protocol. El mètode rebrà la consulta de l'usuari, tal com es retorna en el mètode `prepare_query` de la classe de l'usuari, i generarà la llista de valors $z_i$ que codifiquen la resposta de la base de dades, considerant la base de dades emmagatzemada.\n",
    "\n",
    "* El paràmetre `n` contindrà el mòdul de la clau pública de l'usuari.\n",
    "* El paràmetre `x` contindrà una llista de valors enters $x_j$ per $j \\in [1, t]$.\n",
    "* La funció retornarà la llista de valors enters $z_i$ per $i \\in [1, s]$."
   ]
  },
  {
   "cell_type": "markdown",
   "metadata": {
    "colab_type": "text",
    "id": "FFNWIV97tRyu"
   },
   "source": [
    "**Exercici 2.5** Funció que implementa el mètode `recover_bit` de la classe de l'usuari.\n",
    "\n",
    "Aquest mètode implementarà el pas 4 del protocol. El mètode rebrà la resposta de la base de dades, tal com es retorna en el mètode `query` de la classe de la base de dades, i recuperarà el bit consultat de la matriu de la base de dades, que correspon a la posició $(ip, jp)$. \n",
    "\n",
    "* El paràmetre `z` contindrà una llista de valors enters $z_i$ per $i \\in [1, s]$.\n",
    "* La funció retornarà un enter amb el bit recuperat de la base de dades."
   ]
  },
  {
   "cell_type": "markdown",
   "metadata": {
    "colab_type": "text",
    "id": "0q3x5UlMtRyu"
   },
   "source": [
    "**Exercici 2.6** Implementació del protocol.\n",
    "\n",
    "Implementeu una execució del protocol sencer entre l'usuari i la base de dades. Creeu una instància d'usuari i una de la base de dades i implementeu la interacció entre les dues entitats per tal que l'usuari recuperi un bit de la base de dades."
   ]
  },
  {
   "cell_type": "markdown",
   "metadata": {
    "colab_type": "text",
    "id": "iIVYieZMtRyu"
   },
   "source": [
    "# 5.- Solucions"
   ]
  },
  {
   "cell_type": "markdown",
   "metadata": {
    "colab_type": "text",
    "id": "uKdI8N5DtRyv"
   },
   "source": [
    "A continuació, podeu trobar una possible solució als exercicis proposats en aquest *notebook*. Tingueu en compte que hi poden haver altres maneres de resoldre els exercicis igualment vàlides."
   ]
  },
  {
   "cell_type": "markdown",
   "metadata": {
    "colab_type": "text",
    "id": "Bx5lbl6atRyv"
   },
   "source": [
    "## 5.1.- La prova de coneixement nul del logaritme discret"
   ]
  },
  {
   "cell_type": "markdown",
   "metadata": {
    "colab_type": "text",
    "id": "NUgHFjwAtRyw"
   },
   "source": [
    "Definició de funcions auxiliars:"
   ]
  },
  {
   "cell_type": "code",
   "execution_count": 21,
   "metadata": {
    "colab": {},
    "colab_type": "code",
    "id": "2hEgntc_tRyw"
   },
   "outputs": [
    {
     "name": "stdout",
     "output_type": "stream",
     "text": [
      "Requirement already satisfied: sympy in ./env/lib/python3.13/site-packages (1.14.0)\n",
      "Requirement already satisfied: mpmath<1.4,>=1.1.0 in ./env/lib/python3.13/site-packages (from sympy) (1.3.0)\n"
     ]
    }
   ],
   "source": [
    "!pip install sympy\n",
    "from sympy import gcd, mod_inverse\n",
    "from sympy.ntheory.generate import randprime\n",
    "from random import randint\n",
    "\n",
    "def mod_eq_solver(e1_a, e1_b, e1_m):\n",
    "    \"\"\"\n",
    "    Solves equation e1: ax = b mod n\n",
    "        (e1_a*x = e1_b mod e1_m)\n",
    "\n",
    "    :return: list of solution(s)\n",
    "    \"\"\"\n",
    "\n",
    "    if gcd(e1_a, e1_m) == 1:\n",
    "        # If a is invertible, there is only one solution, and we can compute it directly:\n",
    "        eq1_sols = [(e1_b * mod_inverse(e1_a, e1_m)) % e1_m]\n",
    "    else:\n",
    "        g = gcd(e1_a, e1_m)\n",
    "        # Use integer division //\n",
    "        e2_a, e2_b, e2_m = e1_a // g, e1_b // g, e1_m // g\n",
    "        # mod_inverse expects integers\n",
    "        x2 = (e2_b * mod_inverse(e2_a, e2_m)) % e2_m\n",
    "        eq1_sols = [int(x2 + e2_m * i) for i in range(g)]\n",
    "        for sol in eq1_sols:\n",
    "            assert (((e1_a * sol) % e1_m) == (e1_b % e1_m))\n",
    "\n",
    "    return eq1_sols"
   ]
  },
  {
   "cell_type": "markdown",
   "metadata": {
    "colab_type": "text",
    "id": "iD7i5_oBtRyy"
   },
   "source": [
    "Implementació dels mètodes de les classes:"
   ]
  },
  {
   "cell_type": "code",
   "execution_count": 22,
   "metadata": {
    "colab": {},
    "colab_type": "code",
    "id": "e_zHAQs8tRyy"
   },
   "outputs": [],
   "source": [
    "from sympy.ntheory.residue_ntheory import is_primitive_root\n",
    "from sympy.ntheory.primetest import isprime\n",
    "\n",
    "\n",
    "class UocZkpProver:\n",
    "    \"\"\"\n",
    "    Class representing a honest prover. The prover knowns a value x\n",
    "        such that g^x = y mod p, and wants to prove this knowledge\n",
    "        without revealing x.\n",
    "    \"\"\"\n",
    "\n",
    "    def __init__(self, p, g, y, x, name=\"HonestProver\"):\n",
    "        \"\"\"\n",
    "        Initializes the prover. Checks the validity of the arguments,\n",
    "        sets the public parameters p, g, y and sets the\n",
    "        secret x.\n",
    "\n",
    "        This method has to initialize instance variables p, g, y and\n",
    "        x (r will remain unset until compute_c method is called).\n",
    "\n",
    "        :param p: integer, modulus\n",
    "        :param g: integer, base\n",
    "        :param y: integer, g^x mod p\n",
    "        :param x: integer, secret\n",
    "        :param name: optional string, name of the prover (to be used\n",
    "            when printing data to the console)\n",
    "        \"\"\"\n",
    "\n",
    "        self.p = None\n",
    "        self.g = None\n",
    "        self.y = None\n",
    "        self.x = None\n",
    "        self.r = None\n",
    "        self.name = name\n",
    "\n",
    "        try:\n",
    "            assert (isprime(p))\n",
    "            assert (y < p)\n",
    "            assert (is_primitive_root(g, p))\n",
    "            if x is not None:\n",
    "                assert (pow(g, x, p) == y)\n",
    "        except:\n",
    "            raise InvalidParams\n",
    "\n",
    "        self.p = p\n",
    "        self.g = g\n",
    "        self.y = y\n",
    "        self.x = x\n",
    "\n",
    "        print_debug(\"{}:\\tInitialized with p = {}, g = {}, y = {} and x = {}\".\n",
    "                    format(self.name, self.p, self.g, self.y, self.x),\n",
    "                    LOG_INFO)\n",
    "\n",
    "    def compute_c(self):\n",
    "        \"\"\"\n",
    "        Chooses a random r and computes c.\n",
    "\n",
    "        This method must set self.r.\n",
    "        :return: integer, c\n",
    "        \"\"\"\n",
    "\n",
    "        c = None\n",
    "\n",
    "        # --- IMPLEMENTATION GOES HERE ---\n",
    "        self.r = randint(2, self.p - 1)  # 2 <= N <= p-1\n",
    "        print_debug(\"{}:\\tI have chosen r = {}\".format(self.name, self.r), LOG_INFO)\n",
    "        c = pow(self.g, self.r, self.p)\n",
    "        # --------------------------------\n",
    "\n",
    "        print_debug(\"{}:\\tI amb sending c = {}\".format(self.name, c), LOG_INFO)\n",
    "        return c\n",
    "\n",
    "    def compute_h(self, b):\n",
    "        \"\"\"\n",
    "        Computes h for the given b.\n",
    "        :param b: integer with a boolean value (0 or 1)\n",
    "        :return: integer, h\n",
    "        \"\"\"\n",
    "\n",
    "        h = None\n",
    "\n",
    "        # --- IMPLEMENTATION GOES HERE ---\n",
    "        h = (self.r + b * self.x) % (self.p - 1)\n",
    "        # --------------------------------\n",
    "\n",
    "        print_debug(\"{}:\\tI amb sending h = {}\".format(self.name, h), LOG_INFO)\n",
    "        return h"
   ]
  },
  {
   "cell_type": "code",
   "execution_count": 23,
   "metadata": {
    "colab": {},
    "colab_type": "code",
    "id": "Wjz9pOBRtRy0"
   },
   "outputs": [],
   "source": [
    "class UocZkpVerifier:\n",
    "    \"\"\"\n",
    "    Class representing a verifier. The verifier wants to known whether\n",
    "        the prover has a value x such that g^x = y mod p.\n",
    "    \"\"\"\n",
    "\n",
    "    def __init__(self, p, g, y, name=\"Verifier\"):\n",
    "        \"\"\"\n",
    "        Initializes the verifier. Checks the validity of the arguments,\n",
    "            and sets the public parameters p, g, y.\n",
    "\n",
    "        This method has to initialize instance variables p, g and y (c\n",
    "            and b will remain unset until choose_b method is called).\n",
    "\n",
    "        :param p: integer, modulus\n",
    "        :param g: integer, base\n",
    "        :param y: integer, g^x mod p\n",
    "        :param name: optional string, name of the verifier (to be used\n",
    "            when printing data to the console)\n",
    "        \"\"\"\n",
    "        self.p = None\n",
    "        self.g = None\n",
    "        self.y = None\n",
    "        self.c = None\n",
    "        self.b = None\n",
    "        self.name = name\n",
    "\n",
    "        try:\n",
    "            assert (isprime(p))\n",
    "            assert (y < p)\n",
    "            assert (is_primitive_root(g, p))\n",
    "\n",
    "        except:\n",
    "            raise InvalidParams\n",
    "\n",
    "        self.p = p\n",
    "        self.g = g\n",
    "        self.y = y\n",
    "\n",
    "        print_debug(\"{}:\\t\\tInitialized with p = {}, g = {} and y = {}\".format(\n",
    "            self.name, self.p, self.g, self.y), LOG_INFO)\n",
    "\n",
    "    def choose_b(self, c):\n",
    "        \"\"\"\n",
    "        Selects a random boolean b value.\n",
    "\n",
    "        This method has to initialize instance variables b and c.\n",
    "        :param c: integer, value c (received from the prover)\n",
    "        :return: integer, b with the chosen boolean\n",
    "        \"\"\"\n",
    "\n",
    "        # --- IMPLEMENTATION GOES HERE ---\n",
    "        self.c = c\n",
    "        self.b = randint(0, 1)\n",
    "        # --------------------------------\n",
    "\n",
    "        print_debug(\"{}:\\t\\tI have chosen b = {}\".format(self.name, self.b),\n",
    "                    LOG_INFO)\n",
    "        return self.b\n",
    "\n",
    "    def verify(self, h):\n",
    "        \"\"\"\n",
    "        Verifies if the prover has correctly solved the challenge.\n",
    "\n",
    "        :param h: integer, value h (received from the proves)\n",
    "        :return: boolean, result of the proof\n",
    "        \"\"\"\n",
    "\n",
    "        result = None\n",
    "\n",
    "        # --- IMPLEMENTATION GOES HERE ---\n",
    "        result = ((self.c * pow(self.y, self.b)) % self.p == pow(\n",
    "            self.g, h, self.p))\n",
    "        # --------------------------------\n",
    "\n",
    "        print_debug(\"{}:\\t\\tThe result of the verification is {}\".format(\n",
    "            self.name, result), LOG_INFO)\n",
    "        return result"
   ]
  },
  {
   "cell_type": "markdown",
   "metadata": {
    "colab_type": "text",
    "id": "WaZ3Iz9GtRy1"
   },
   "source": [
    "Implementació i execució del protocol:"
   ]
  },
  {
   "cell_type": "code",
   "execution_count": 24,
   "metadata": {
    "colab": {},
    "colab_type": "code",
    "id": "qkYZ1ZJOtRy2"
   },
   "outputs": [],
   "source": [
    "def challenge(prover, verifier, num_times=1):\n",
    "    \"\"\"\n",
    "    Executes the full zero knowledge protocol between a prover and\n",
    "        a verifier num_times times. The execution of the protocol\n",
    "        is successful if the prover is able to convice the verifier\n",
    "        in all the executions.\n",
    "\n",
    "    :param prover: UocZkpProver object\n",
    "    :param verifier: UocZkpVerifier object\n",
    "    :param num_times: integer, number of times to execute the ZKP\n",
    "    :return: 2-element tuple, a boolean indicating whether the\n",
    "        challenge was successful and a float\n",
    "    \"\"\"\n",
    "\n",
    "    success, prob = None, None\n",
    "\n",
    "    # --- IMPLEMENTATION GOES HERE ---\n",
    "\n",
    "    results = []\n",
    "    for _ in range(num_times):\n",
    "        c = prover.compute_c()\n",
    "        b = verifier.choose_b(c)\n",
    "        h = prover.compute_h(b)\n",
    "        r = verifier.verify(h)\n",
    "        results.append(r)\n",
    "\n",
    "    # print(results)\n",
    "    success = all(results)\n",
    "    prob = (1/2)**num_times\n",
    "\n",
    "    # --------------------------------\n",
    "\n",
    "    return success, prob"
   ]
  },
  {
   "cell_type": "code",
   "execution_count": 25,
   "metadata": {
    "colab": {},
    "colab_type": "code",
    "id": "qo2ZVXEQtRy3",
    "outputId": "07fc1746-3058-43a8-fb58-35044d121b3e"
   },
   "outputs": [
    {
     "name": "stdout",
     "output_type": "stream",
     "text": [
      "num_times = 1\n",
      "\tChallenge successful:\t\tTrue\n",
      "\tProbability of deception:\t0.5\n",
      "num_times = 10\n",
      "\tChallenge successful:\t\tTrue\n",
      "\tProbability of deception:\t0.0009765625\n"
     ]
    }
   ],
   "source": [
    "p, g, y, x = 7687815937255549241, 27, 828418027377238633, 6041213497581640253\n",
    "\n",
    "prover = UocZkpProver(p, g, y, x)\n",
    "verifier = UocZkpVerifier(p, g, y)\n",
    "\n",
    "success, prob = challenge(prover, verifier, num_times=1)\n",
    "print(\"num_times = 1\")\n",
    "print(\"\\tChallenge successful:\\t\\t{}\".format(success))\n",
    "print(\"\\tProbability of deception:\\t{}\".format(prob))\n",
    "\n",
    "success, prob = challenge(prover, verifier, num_times=10)\n",
    "print(\"num_times = 10\")\n",
    "print(\"\\tChallenge successful:\\t\\t{}\".format(success))\n",
    "print(\"\\tProbability of deception:\\t{}\".format(prob))"
   ]
  },
  {
   "cell_type": "markdown",
   "metadata": {
    "colab_type": "text",
    "id": "rLMjh9TftRy6"
   },
   "source": [
    "## 5.2.- El protocol de PIR de Kushilevitz i Ostrovsky"
   ]
  },
  {
   "cell_type": "markdown",
   "metadata": {
    "colab_type": "text",
    "id": "KVM7NBlmtRy6"
   },
   "source": [
    "Definició de funcions auxiliars:"
   ]
  },
  {
   "cell_type": "code",
   "execution_count": 9,
   "metadata": {
    "colab": {},
    "colab_type": "code",
    "id": "Qj7S2rYstRy6"
   },
   "outputs": [],
   "source": [
    "from sympy.functions.combinatorial.numbers import legendre_symbol\n",
    "from sympy.ntheory.generate import randprime\n",
    "from random import randint\n",
    "import numpy as np\n",
    "\n",
    "LOG_INFO = \"INFO\"\n",
    "LOG_WARN = \"WARN\"\n",
    "LOG_ERROR = \"ERROR\"\n",
    "\n",
    "def is_qr_mod_p(a, p):\n",
    "    leg = legendre_symbol(int(a), int(p))\n",
    "    if leg == 1:\n",
    "        return True\n",
    "    elif leg == -1:\n",
    "        return False\n",
    "    else:\n",
    "        return True\n",
    "\n",
    "\n",
    "def force_brute_sqrt(a, n):\n",
    "    for i in range(n):\n",
    "        if pow(i, 2, n) == a:\n",
    "            return i\n",
    "    return False\n",
    "\n",
    "def print_debug(msg, level=None):\n",
    "    print(msg)"
   ]
  },
  {
   "cell_type": "markdown",
   "metadata": {
    "colab_type": "text",
    "id": "h1R0Ln82tRy8"
   },
   "source": [
    "Implementació dels mètodes de les classes:"
   ]
  },
  {
   "cell_type": "code",
   "execution_count": 10,
   "metadata": {
    "colab": {},
    "colab_type": "code",
    "id": "B-CTE-2etRy9"
   },
   "outputs": [],
   "source": [
    "class User:\n",
    "    \"\"\"\n",
    "    Class representing a user that wants to query a database (which is a\n",
    "        matrix m of s x t bits). The user knows the size of the matrix,\n",
    "        and wants to query for the content a specific position m_{ij}.\n",
    "    \"\"\"\n",
    "\n",
    "    def __init__(self, n_bits=8, s=3, t=5):\n",
    "        \"\"\"\n",
    "        Initializes the user. Creates a Goldwasser-Micali public key, and\n",
    "            stores it in instance variables.\n",
    "\n",
    "        This method has to initialize instance variables p, q, n, a, s and\n",
    "            t (ip and ij will remain unset until the prepare_query method\n",
    "            is called).\n",
    "\n",
    "        :param n_bits: integer, number of bits of the public key modulus.\n",
    "        :param s: integer, number of rows of the database matrix.\n",
    "        :param t: integer, number of columns of the database matrix.\n",
    "        \"\"\"\n",
    "\n",
    "        self.p, self.q, self.n, self.a = None, None, None, None\n",
    "        self.s, self.t = None, None\n",
    "        self.ip, self.jp = None, None\n",
    "\n",
    "        # --- IMPLEMENTATION GOES HERE ---\n",
    "        self.p = randprime(2**(n_bits/2-1), 2**n_bits/2)\n",
    "        self.q = randprime(2**(n_bits/2-1), 2**n_bits/2)\n",
    "        self.n = self.p * self.q\n",
    "        self.a = randint(2, self.n-1)\n",
    "\n",
    "        while is_qr_mod_p(self.a, self.p) or is_qr_mod_p(self.a, self.q):\n",
    "            self.a = randint(2, self.n-1)\n",
    "\n",
    "        self.s, self.t = s, t\n",
    "        # --------------------------------\n",
    "\n",
    "        print_debug(\"[U]  PK = ({}, {}), sk = ({}, {})\".format(\n",
    "            self.n, self.a, self.p, self.q), LOG_INFO)\n",
    "\n",
    "    def prepare_query(self, ip, jp):\n",
    "        \"\"\"\n",
    "        Computes the values to query the database for position (ip, jp)\n",
    "            from the database matrix. Checks that the received indexes\n",
    "            are valid, and computes the values to send to the database.\n",
    "\n",
    "        This method has to initialize instance variables ip and jp.\n",
    "\n",
    "        :param ip: integer, row of the database matrix to query.\n",
    "        :param jp: integer, column of the database matrix to query.\n",
    "        :return: two-elements tuple, the modulus n (an integer) and\n",
    "            a list of the x_i values (integers).\n",
    "        \"\"\"\n",
    "\n",
    "        x = None\n",
    "\n",
    "        # --- IMPLEMENTATION GOES HERE ---\n",
    "        try:\n",
    "            assert ip < self.s and jp < self.t\n",
    "        except AssertionError:\n",
    "            raise InvalidParams\n",
    "\n",
    "        r = np.random.randint(0, self.n, size=self.t)\n",
    "        while any([v % self.p == 0 or v % self.q == 0 for v in r]):\n",
    "            r = np.random.randint(0, self.n, size=self.t)\n",
    "\n",
    "        print_debug(\"[U]  r = {}\".format(r).format(ip, jp), LOG_INFO)\n",
    "        x = [(self.a*pow(int(re), 2, self.n)) % self.n if j == jp else\n",
    "             (re**2) % self.n for j, re in enumerate(r)]\n",
    "        self.ip, self.jp = ip, jp\n",
    "        # --------------------------------\n",
    "\n",
    "        print_debug(\"[U]  Query for index ({}, {})\".format(ip, jp), LOG_INFO)\n",
    "        print_debug(\"[U]  n = {}, x = {}\".format(self.n, x), LOG_INFO)\n",
    "        return self.n, x\n",
    "\n",
    "    def recover_bit(self, z):\n",
    "        \"\"\"\n",
    "        Recovers the bit in position (ip, jp) of the database matrix from\n",
    "            the values z sent by the database.\n",
    "\n",
    "        :param z: list of integers, as received from the database.\n",
    "        :return: integer, the recovered bit.\n",
    "        \"\"\"\n",
    "\n",
    "        recovered_bit = None\n",
    "\n",
    "        # --- IMPLEMENTATION GOES HERE ---\n",
    "        recovered_bit = int(not (is_qr_mod_p(\n",
    "            z[self.ip], self.p) and is_qr_mod_p(z[self.ip], self.q)))\n",
    "        # --------------------------------\n",
    "\n",
    "        print_debug(\"[U]  Recovered bit: {}\".format(recovered_bit), LOG_INFO)\n",
    "        return recovered_bit"
   ]
  },
  {
   "cell_type": "code",
   "execution_count": 11,
   "metadata": {
    "colab": {},
    "colab_type": "code",
    "id": "V16zOs6utRy_"
   },
   "outputs": [],
   "source": [
    "class Database:\n",
    "    \"\"\"\n",
    "    Class representing the database that is queried with the PIR protocol.\n",
    "        The database stores a matrix m of s x t bits.\n",
    "    \"\"\"\n",
    "\n",
    "    def __init__(self, s=3, t=5):\n",
    "        \"\"\"\n",
    "        Initializes the database by generating a random matrix of bits of\n",
    "            size sxt.\n",
    "\n",
    "        This method has to initialize instance variables s, t and m.\n",
    "\n",
    "        :param s: integer, number of rows of the database matrix.\n",
    "        :param t: integer, number of columns of the database matrix.\n",
    "        \"\"\"\n",
    "\n",
    "        self.s, self.t = None, None\n",
    "        self.m = None\n",
    "\n",
    "        # --- IMPLEMENTATION GOES HERE ---\n",
    "        self.s, self.t = s, t\n",
    "        self.m = np.random.randint(0, 2, size=(s, t))\n",
    "        # --------------------------------\n",
    "\n",
    "        print_debug(\"[DB] The database is:\\n{}\".format(self.m), LOG_INFO)\n",
    "\n",
    "    def query(self, n, x):\n",
    "        \"\"\"\n",
    "        Processes a query from a user.\n",
    "\n",
    "        :param n: integer, the modulus n from the user's public key.\n",
    "        :param x: list of integers, the x_j values as received from the user.\n",
    "        :return: list of integers, the z_i values that constitute the\n",
    "            database response.\n",
    "        \"\"\"\n",
    "\n",
    "        z = None\n",
    "\n",
    "        # --- IMPLEMENTATION GOES HERE ---\n",
    "        z = []\n",
    "        for row in self.m:\n",
    "            zi = 1\n",
    "            for m, xe in zip(row, x):\n",
    "                if m:\n",
    "                    zi = (zi*xe) % n\n",
    "                else:\n",
    "                    zi = (zi*pow(int(xe), 2, n)) % n\n",
    "            z.append(zi)\n",
    "        # --------------------------------\n",
    "\n",
    "        print_debug(\"[DB] z = {}\".format(z), LOG_INFO)\n",
    "        return z"
   ]
  },
  {
   "cell_type": "markdown",
   "metadata": {
    "colab_type": "text",
    "id": "OBGa-8_qtRzA"
   },
   "source": [
    "Implementació i execució del protocol:"
   ]
  },
  {
   "cell_type": "code",
   "execution_count": 12,
   "metadata": {
    "colab": {},
    "colab_type": "code",
    "id": "NYJA_HlstRzA"
   },
   "outputs": [
    {
     "name": "stdout",
     "output_type": "stream",
     "text": [
      "[U]  PK = (1157, 202), sk = (13, 89)\n",
      "[DB] The database is:\n",
      "[[1 0 1 0 1]\n",
      " [1 0 1 1 1]\n",
      " [1 1 0 1 1]]\n",
      "[U]  r = [ 275  284  777  287 1051]\n",
      "[U]  Query for index (1, 2)\n",
      "[U]  n = 1157, x = [np.int64(420), np.int64(823), 830, np.int64(222), np.int64(823)]\n",
      "[DB] z = [np.int64(905), np.int64(593), np.int64(9)]\n",
      "[U]  Recovered bit: 1\n"
     ]
    }
   ],
   "source": [
    "u = User()\n",
    "db = Database()\n",
    "\n",
    "# Com a exemple, recuperem el bit (1, 2)\n",
    "n, x = u.prepare_query(1, 2)\n",
    "z = db.query(n, x)\n",
    "recovered_bit = u.recover_bit(z)\n",
    "\n",
    "# Comprovem que el bit recuperat és correcte\n",
    "assert recovered_bit == db.m[1, 2]"
   ]
  }
 ],
 "metadata": {
  "colab": {
   "name": "Protocols criptogràfics.ipynb",
   "provenance": []
  },
  "kernelspec": {
   "display_name": "Python 3 (ipykernel)",
   "language": "python",
   "name": "python3"
  },
  "language_info": {
   "codemirror_mode": {
    "name": "ipython",
    "version": 3
   },
   "file_extension": ".py",
   "mimetype": "text/x-python",
   "name": "python",
   "nbconvert_exporter": "python",
   "pygments_lexer": "ipython3",
   "version": "3.13.3"
  }
 },
 "nbformat": 4,
 "nbformat_minor": 4
}
